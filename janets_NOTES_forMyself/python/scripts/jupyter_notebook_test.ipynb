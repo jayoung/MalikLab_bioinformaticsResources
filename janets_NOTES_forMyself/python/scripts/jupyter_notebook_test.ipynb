{
 "cells": [
  {
   "cell_type": "markdown",
   "metadata": {},
   "source": [
    "# my title\n",
    "\n",
    "hello: this is a markdown chunk with some notes"
   ]
  },
  {
   "cell_type": "code",
   "execution_count": 24,
   "metadata": {},
   "outputs": [],
   "source": [
    "import pandas\n",
    "import matplotlib.pyplot as plt"
   ]
  },
  {
   "cell_type": "code",
   "execution_count": 25,
   "metadata": {},
   "outputs": [
    {
     "name": "stdout",
     "output_type": "stream",
     "text": [
      "here's the first few rows of ../data/dna.example.lengths.tsv\n"
     ]
    },
    {
     "data": {
      "text/html": [
       "<div>\n",
       "<style scoped>\n",
       "    .dataframe tbody tr th:only-of-type {\n",
       "        vertical-align: middle;\n",
       "    }\n",
       "\n",
       "    .dataframe tbody tr th {\n",
       "        vertical-align: top;\n",
       "    }\n",
       "\n",
       "    .dataframe thead th {\n",
       "        text-align: right;\n",
       "    }\n",
       "</style>\n",
       "<table border=\"1\" class=\"dataframe\">\n",
       "  <thead>\n",
       "    <tr style=\"text-align: right;\">\n",
       "      <th></th>\n",
       "      <th>SeqID</th>\n",
       "      <th>Length</th>\n",
       "    </tr>\n",
       "  </thead>\n",
       "  <tbody>\n",
       "    <tr>\n",
       "      <th>0</th>\n",
       "      <td>gi|142022655|gb|EQ086233.1|43</td>\n",
       "      <td>990</td>\n",
       "    </tr>\n",
       "    <tr>\n",
       "      <th>1</th>\n",
       "      <td>gi|142022655|gb|EQ086233.1|160</td>\n",
       "      <td>724</td>\n",
       "    </tr>\n",
       "    <tr>\n",
       "      <th>2</th>\n",
       "      <td>gi|142022655|gb|EQ086233.1|41</td>\n",
       "      <td>3080</td>\n",
       "    </tr>\n",
       "    <tr>\n",
       "      <th>3</th>\n",
       "      <td>gi|142022655|gb|EQ086233.1|221</td>\n",
       "      <td>2863</td>\n",
       "    </tr>\n",
       "    <tr>\n",
       "      <th>4</th>\n",
       "      <td>gi|142022655|gb|EQ086233.1|294</td>\n",
       "      <td>3832</td>\n",
       "    </tr>\n",
       "    <tr>\n",
       "      <th>5</th>\n",
       "      <td>gi|142022655|gb|EQ086233.1|323</td>\n",
       "      <td>4805</td>\n",
       "    </tr>\n",
       "  </tbody>\n",
       "</table>\n",
       "</div>"
      ],
      "text/plain": [
       "                            SeqID  Length\n",
       "0   gi|142022655|gb|EQ086233.1|43     990\n",
       "1  gi|142022655|gb|EQ086233.1|160     724\n",
       "2   gi|142022655|gb|EQ086233.1|41    3080\n",
       "3  gi|142022655|gb|EQ086233.1|221    2863\n",
       "4  gi|142022655|gb|EQ086233.1|294    3832\n",
       "5  gi|142022655|gb|EQ086233.1|323    4805"
      ]
     },
     "metadata": {},
     "output_type": "display_data"
    }
   ],
   "source": [
    "dat_file = '../data/dna.example.lengths.tsv'\n",
    "\n",
    "# read_csv returns an object of class DataFrame\n",
    "df = pandas.read_csv(dat_file,sep = '\\t') \n",
    "\n",
    "print(\"here's the first few rows of %s\" % dat_file)\n",
    "display(df[0:6])"
   ]
  },
  {
   "cell_type": "markdown",
   "metadata": {},
   "source": [
    "# use matplot lib to make a histogram"
   ]
  },
  {
   "cell_type": "code",
   "execution_count": 26,
   "metadata": {},
   "outputs": [
    {
     "data": {
      "image/png": "[encoded data removed]",
      "text/plain": [
       "<Figure size 640x480 with 1 Axes>"
      ]
     },
     "metadata": {},
     "output_type": "display_data"
    }
   ],
   "source": [
    "numbins = 10 \n",
    "plt.hist(df[\"Length\"], numbins)\n",
    "plt.show()"
   ]
  },
  {
   "cell_type": "markdown",
   "metadata": {},
   "source": [
    "I could explore the [`matplotlib` package](https://matplotlib.org) more to understand how to make plots within python, and the related package seaborn. But why, when I'm happy in R?"
   ]
  },
  {
   "cell_type": "markdown",
   "metadata": {},
   "source": [
    "# Jupyter notebook features:  \n",
    "\n",
    "'Variables' viewer: click \"variables\" in the top bar, and a browser window appears at the bottom. For some of our variables (like `DataFrame` objects) we can double-click, and a new viewer window pops up so that we can browse the actual data, with sorting and filtering functions. Similar to Rstudio. More info [here](https://code.visualstudio.com/docs/datascience/data-science-tutorial#_prepare-the-data)\n",
    "\n",
    "[Debugging](https://code.visualstudio.com/docs/datascience/jupyter-notebooks#_run-by-line): hovering over a python cell shows a menu on the top right. The first item here is the 'run by line' button. Click once to enter debug mode, click again to run the next line. Debug console allows us to explore the data at each point. There are more sophisticated ways to do this, e.g. by 'inserting breakpoints' in the code, and using the 'debug cell' option (next to the 'run' button, on the left of the cell): here, it runs through the code and pauses at the breakpoints.\n",
    "\n",
    "Running code remotely - can use the kernel picker to connect to a Jupyter server"
   ]
  }
 ],
 "metadata": {
  "kernelspec": {
   "display_name": "Python 3",
   "language": "python",
   "name": "python3"
  },
  "language_info": {
   "codemirror_mode": {
    "name": "ipython",
    "version": 3
   },
   "file_extension": ".py",
   "mimetype": "text/x-python",
   "name": "python",
   "nbconvert_exporter": "python",
   "pygments_lexer": "ipython3",
   "version": "3.11.6"
  }
 },
 "nbformat": 4,
 "nbformat_minor": 2
}
